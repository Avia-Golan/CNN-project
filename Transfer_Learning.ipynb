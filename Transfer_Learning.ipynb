{
  "nbformat": 4,
  "nbformat_minor": 0,
  "metadata": {
    "colab": {
      "provenance": []
    },
    "kernelspec": {
      "name": "python3",
      "display_name": "Python 3"
    },
    "language_info": {
      "name": "python"
    }
  },
  "cells": [
    {
      "cell_type": "markdown",
      "source": [
        "#CNN\n",
        "\n",
        "**Adding Transfer Learning to my model**"
      ],
      "metadata": {
        "id": "gOaDOsdv3jAj"
      }
    },
    {
      "cell_type": "code",
      "source": [
        "!pip install tensorflow"
      ],
      "metadata": {
        "colab": {
          "base_uri": "https://localhost:8080/"
        },
        "collapsed": true,
        "id": "c5PhmjvSwv8D",
        "outputId": "a273d390-2ddb-4257-fa50-c949e8790b64"
      },
      "execution_count": null,
      "outputs": [
        {
          "output_type": "stream",
          "name": "stdout",
          "text": [
            "Requirement already satisfied: tensorflow in /usr/local/lib/python3.10/dist-packages (2.15.0)\n",
            "Requirement already satisfied: absl-py>=1.0.0 in /usr/local/lib/python3.10/dist-packages (from tensorflow) (1.4.0)\n",
            "Requirement already satisfied: astunparse>=1.6.0 in /usr/local/lib/python3.10/dist-packages (from tensorflow) (1.6.3)\n",
            "Requirement already satisfied: flatbuffers>=23.5.26 in /usr/local/lib/python3.10/dist-packages (from tensorflow) (24.3.25)\n",
            "Requirement already satisfied: gast!=0.5.0,!=0.5.1,!=0.5.2,>=0.2.1 in /usr/local/lib/python3.10/dist-packages (from tensorflow) (0.6.0)\n",
            "Requirement already satisfied: google-pasta>=0.1.1 in /usr/local/lib/python3.10/dist-packages (from tensorflow) (0.2.0)\n",
            "Requirement already satisfied: h5py>=2.9.0 in /usr/local/lib/python3.10/dist-packages (from tensorflow) (3.9.0)\n",
            "Requirement already satisfied: libclang>=13.0.0 in /usr/local/lib/python3.10/dist-packages (from tensorflow) (18.1.1)\n",
            "Requirement already satisfied: ml-dtypes~=0.2.0 in /usr/local/lib/python3.10/dist-packages (from tensorflow) (0.2.0)\n",
            "Requirement already satisfied: numpy<2.0.0,>=1.23.5 in /usr/local/lib/python3.10/dist-packages (from tensorflow) (1.25.2)\n",
            "Requirement already satisfied: opt-einsum>=2.3.2 in /usr/local/lib/python3.10/dist-packages (from tensorflow) (3.3.0)\n",
            "Requirement already satisfied: packaging in /usr/local/lib/python3.10/dist-packages (from tensorflow) (24.1)\n",
            "Requirement already satisfied: protobuf!=4.21.0,!=4.21.1,!=4.21.2,!=4.21.3,!=4.21.4,!=4.21.5,<5.0.0dev,>=3.20.3 in /usr/local/lib/python3.10/dist-packages (from tensorflow) (3.20.3)\n",
            "Requirement already satisfied: setuptools in /usr/local/lib/python3.10/dist-packages (from tensorflow) (67.7.2)\n",
            "Requirement already satisfied: six>=1.12.0 in /usr/local/lib/python3.10/dist-packages (from tensorflow) (1.16.0)\n",
            "Requirement already satisfied: termcolor>=1.1.0 in /usr/local/lib/python3.10/dist-packages (from tensorflow) (2.4.0)\n",
            "Requirement already satisfied: typing-extensions>=3.6.6 in /usr/local/lib/python3.10/dist-packages (from tensorflow) (4.12.2)\n",
            "Requirement already satisfied: wrapt<1.15,>=1.11.0 in /usr/local/lib/python3.10/dist-packages (from tensorflow) (1.14.1)\n",
            "Requirement already satisfied: tensorflow-io-gcs-filesystem>=0.23.1 in /usr/local/lib/python3.10/dist-packages (from tensorflow) (0.37.1)\n",
            "Requirement already satisfied: grpcio<2.0,>=1.24.3 in /usr/local/lib/python3.10/dist-packages (from tensorflow) (1.64.1)\n",
            "Requirement already satisfied: tensorboard<2.16,>=2.15 in /usr/local/lib/python3.10/dist-packages (from tensorflow) (2.15.2)\n",
            "Requirement already satisfied: tensorflow-estimator<2.16,>=2.15.0 in /usr/local/lib/python3.10/dist-packages (from tensorflow) (2.15.0)\n",
            "Requirement already satisfied: keras<2.16,>=2.15.0 in /usr/local/lib/python3.10/dist-packages (from tensorflow) (2.15.0)\n",
            "Requirement already satisfied: wheel<1.0,>=0.23.0 in /usr/local/lib/python3.10/dist-packages (from astunparse>=1.6.0->tensorflow) (0.43.0)\n",
            "Requirement already satisfied: google-auth<3,>=1.6.3 in /usr/local/lib/python3.10/dist-packages (from tensorboard<2.16,>=2.15->tensorflow) (2.27.0)\n",
            "Requirement already satisfied: google-auth-oauthlib<2,>=0.5 in /usr/local/lib/python3.10/dist-packages (from tensorboard<2.16,>=2.15->tensorflow) (1.2.1)\n",
            "Requirement already satisfied: markdown>=2.6.8 in /usr/local/lib/python3.10/dist-packages (from tensorboard<2.16,>=2.15->tensorflow) (3.6)\n",
            "Requirement already satisfied: requests<3,>=2.21.0 in /usr/local/lib/python3.10/dist-packages (from tensorboard<2.16,>=2.15->tensorflow) (2.31.0)\n",
            "Requirement already satisfied: tensorboard-data-server<0.8.0,>=0.7.0 in /usr/local/lib/python3.10/dist-packages (from tensorboard<2.16,>=2.15->tensorflow) (0.7.2)\n",
            "Requirement already satisfied: werkzeug>=1.0.1 in /usr/local/lib/python3.10/dist-packages (from tensorboard<2.16,>=2.15->tensorflow) (3.0.3)\n",
            "Requirement already satisfied: cachetools<6.0,>=2.0.0 in /usr/local/lib/python3.10/dist-packages (from google-auth<3,>=1.6.3->tensorboard<2.16,>=2.15->tensorflow) (5.4.0)\n",
            "Requirement already satisfied: pyasn1-modules>=0.2.1 in /usr/local/lib/python3.10/dist-packages (from google-auth<3,>=1.6.3->tensorboard<2.16,>=2.15->tensorflow) (0.4.0)\n",
            "Requirement already satisfied: rsa<5,>=3.1.4 in /usr/local/lib/python3.10/dist-packages (from google-auth<3,>=1.6.3->tensorboard<2.16,>=2.15->tensorflow) (4.9)\n",
            "Requirement already satisfied: requests-oauthlib>=0.7.0 in /usr/local/lib/python3.10/dist-packages (from google-auth-oauthlib<2,>=0.5->tensorboard<2.16,>=2.15->tensorflow) (1.3.1)\n",
            "Requirement already satisfied: charset-normalizer<4,>=2 in /usr/local/lib/python3.10/dist-packages (from requests<3,>=2.21.0->tensorboard<2.16,>=2.15->tensorflow) (3.3.2)\n",
            "Requirement already satisfied: idna<4,>=2.5 in /usr/local/lib/python3.10/dist-packages (from requests<3,>=2.21.0->tensorboard<2.16,>=2.15->tensorflow) (3.7)\n",
            "Requirement already satisfied: urllib3<3,>=1.21.1 in /usr/local/lib/python3.10/dist-packages (from requests<3,>=2.21.0->tensorboard<2.16,>=2.15->tensorflow) (2.0.7)\n",
            "Requirement already satisfied: certifi>=2017.4.17 in /usr/local/lib/python3.10/dist-packages (from requests<3,>=2.21.0->tensorboard<2.16,>=2.15->tensorflow) (2024.7.4)\n",
            "Requirement already satisfied: MarkupSafe>=2.1.1 in /usr/local/lib/python3.10/dist-packages (from werkzeug>=1.0.1->tensorboard<2.16,>=2.15->tensorflow) (2.1.5)\n",
            "Requirement already satisfied: pyasn1<0.7.0,>=0.4.6 in /usr/local/lib/python3.10/dist-packages (from pyasn1-modules>=0.2.1->google-auth<3,>=1.6.3->tensorboard<2.16,>=2.15->tensorflow) (0.6.0)\n",
            "Requirement already satisfied: oauthlib>=3.0.0 in /usr/local/lib/python3.10/dist-packages (from requests-oauthlib>=0.7.0->google-auth-oauthlib<2,>=0.5->tensorboard<2.16,>=2.15->tensorflow) (3.2.2)\n"
          ]
        }
      ]
    },
    {
      "cell_type": "markdown",
      "source": [
        "Libraries I used"
      ],
      "metadata": {
        "id": "Lal4rtYs4H7P"
      }
    },
    {
      "cell_type": "code",
      "source": [
        "import os\n",
        "import tensorflow as tf\n",
        "from tensorflow.keras.preprocessing.image import ImageDataGenerator\n",
        "from tensorflow.keras.models import Sequential\n",
        "from tensorflow.keras.layers import Conv2D, MaxPooling2D, Flatten, Dense, Dropout\n",
        "import matplotlib.pyplot as plt\n",
        "from tensorflow.keras.applications import VGG16\n",
        "from tensorflow.keras.models import Model\n",
        "from tensorflow.keras.layers import Input"
      ],
      "metadata": {
        "id": "WkdC_VHuv9uj"
      },
      "execution_count": null,
      "outputs": []
    },
    {
      "cell_type": "markdown",
      "source": [
        "Preparing the images so that I can run the CNN model on them"
      ],
      "metadata": {
        "id": "UdiQ6RJ-60Fs"
      }
    },
    {
      "cell_type": "code",
      "source": [
        "# Paths to the data\n",
        "train_directory = '/content/drive/MyDrive/רשתות ניורונים/Ex6/New_Photos1/train'\n",
        "test_directory = '/content/drive/MyDrive/רשתות ניורונים/Ex6/New_Photos1/test'\n",
        "\n",
        "# Parameters\n",
        "img_height, img_width = 150, 150\n",
        "batch_size = 32\n",
        "epochs = 20\n",
        "\n",
        "# Data generators\n",
        "train_datagen = ImageDataGenerator(\n",
        "    rescale=1./255,  # Normalize pixel values\n",
        "    rotation_range=40,  # Rotate images up to 40 degrees\n",
        "    width_shift_range=0.2,  # Shift images horizontally by up to 20% of the width\n",
        "    height_shift_range=0.2,  # Shift images vertically by up to 20% of the height\n",
        "    shear_range=0.2,  # Shear images by up to 20%\n",
        "    zoom_range=0.2,  # Zoom into images by up to 20%\n",
        "    horizontal_flip=True,  # Flip images horizontally\n",
        "    fill_mode='nearest'  # Fill new pixels with the nearest value\n",
        ")\n",
        "test_datagen = ImageDataGenerator(rescale=1./255)\n",
        "\n",
        "train_generator = train_datagen.flow_from_directory(\n",
        "    train_directory,\n",
        "    target_size=(img_height, img_width),\n",
        "    batch_size=batch_size,\n",
        "    class_mode='categorical'\n",
        ")\n",
        "\n",
        "test_generator = test_datagen.flow_from_directory(\n",
        "    test_directory,\n",
        "    target_size=(img_height, img_width),\n",
        "    batch_size=batch_size,\n",
        "    class_mode='categorical'\n",
        ")\n"
      ],
      "metadata": {
        "colab": {
          "base_uri": "https://localhost:8080/"
        },
        "id": "Q618hFgHvdGX",
        "outputId": "9f590ba2-1163-4ee5-e7ed-b12d1ecbfad0"
      },
      "execution_count": null,
      "outputs": [
        {
          "output_type": "stream",
          "name": "stdout",
          "text": [
            "Found 899 images belonging to 4 classes.\n",
            "Found 226 images belonging to 4 classes.\n"
          ]
        }
      ]
    },
    {
      "cell_type": "code",
      "source": [
        "# Load pre-trained VGG16 model + higher level layers\n",
        "base_model = VGG16(weights='imagenet', include_top=False, input_shape=(img_height, img_width, 3))\n",
        "\n",
        "# Add custom layers on top of the base model\n",
        "x = base_model.output\n",
        "x = Flatten()(x)\n",
        "x = Dense(512, activation='relu')(x)\n",
        "x = Dropout(0.5)(x)\n",
        "predictions = Dense(4, activation='softmax')(x)  # 4 categories\n"
      ],
      "metadata": {
        "colab": {
          "base_uri": "https://localhost:8080/"
        },
        "id": "7QA4vCd9GZtX",
        "outputId": "bee3e0d2-a29f-4f76-fef7-4e1428c53887"
      },
      "execution_count": null,
      "outputs": [
        {
          "output_type": "stream",
          "name": "stdout",
          "text": [
            "Downloading data from https://storage.googleapis.com/tensorflow/keras-applications/vgg16/vgg16_weights_tf_dim_ordering_tf_kernels_notop.h5\n",
            "58889256/58889256 [==============================] - 0s 0us/step\n"
          ]
        }
      ]
    },
    {
      "cell_type": "markdown",
      "source": [
        "The cnn model that worked best for me - with 3 layers and dropout = 0.5 and augmentation"
      ],
      "metadata": {
        "id": "2UdzQ38-7OhC"
      }
    },
    {
      "cell_type": "code",
      "source": [
        "# Create the model\n",
        "model = Model(inputs=base_model.input, outputs=predictions)\n",
        "\n",
        "# Freeze the base model's layers\n",
        "for layer in base_model.layers:\n",
        "    layer.trainable = False"
      ],
      "metadata": {
        "id": "S1r1UsezwPvp"
      },
      "execution_count": null,
      "outputs": []
    },
    {
      "cell_type": "code",
      "source": [
        "# Compile the model\n",
        "model.compile(optimizer='adam', loss='categorical_crossentropy', metrics=['accuracy'])"
      ],
      "metadata": {
        "id": "tB-nwpIXwUG3"
      },
      "execution_count": null,
      "outputs": []
    },
    {
      "cell_type": "markdown",
      "source": [
        "Running the model on the training group"
      ],
      "metadata": {
        "id": "p3pSjas_7jJU"
      }
    },
    {
      "cell_type": "code",
      "source": [
        "# Train the model\n",
        "history = model.fit(\n",
        "    train_generator,\n",
        "    epochs=epochs,\n",
        "    validation_data=test_generator\n",
        ")"
      ],
      "metadata": {
        "colab": {
          "base_uri": "https://localhost:8080/"
        },
        "id": "yyRv4nddwXOu",
        "outputId": "a96d12ff-9473-43ec-ce13-26917f460e96"
      },
      "execution_count": null,
      "outputs": [
        {
          "output_type": "stream",
          "name": "stdout",
          "text": [
            "Epoch 1/20\n",
            "29/29 [==============================] - 352s 12s/step - loss: 1.5026 - accuracy: 0.5517 - val_loss: 0.4658 - val_accuracy: 0.8009\n",
            "Epoch 2/20\n",
            "29/29 [==============================] - 335s 12s/step - loss: 0.5227 - accuracy: 0.8031 - val_loss: 0.2735 - val_accuracy: 0.9204\n",
            "Epoch 3/20\n",
            "29/29 [==============================] - 330s 11s/step - loss: 0.4339 - accuracy: 0.8409 - val_loss: 0.3221 - val_accuracy: 0.8673\n",
            "Epoch 4/20\n",
            "29/29 [==============================] - 355s 12s/step - loss: 0.3761 - accuracy: 0.8554 - val_loss: 0.2381 - val_accuracy: 0.9071\n",
            "Epoch 5/20\n",
            "29/29 [==============================] - 348s 12s/step - loss: 0.3257 - accuracy: 0.8854 - val_loss: 0.1629 - val_accuracy: 0.9558\n",
            "Epoch 6/20\n",
            "29/29 [==============================] - 327s 11s/step - loss: 0.3540 - accuracy: 0.8732 - val_loss: 0.1483 - val_accuracy: 0.9602\n",
            "Epoch 7/20\n",
            "29/29 [==============================] - 327s 11s/step - loss: 0.3087 - accuracy: 0.8788 - val_loss: 0.2075 - val_accuracy: 0.9159\n",
            "Epoch 8/20\n",
            "29/29 [==============================] - 326s 11s/step - loss: 0.2956 - accuracy: 0.9021 - val_loss: 0.1395 - val_accuracy: 0.9602\n",
            "Epoch 9/20\n",
            "29/29 [==============================] - 325s 11s/step - loss: 0.3362 - accuracy: 0.8699 - val_loss: 0.1728 - val_accuracy: 0.9425\n",
            "Epoch 10/20\n",
            "29/29 [==============================] - 326s 11s/step - loss: 0.2743 - accuracy: 0.9010 - val_loss: 0.1567 - val_accuracy: 0.9425\n",
            "Epoch 11/20\n",
            "29/29 [==============================] - 345s 12s/step - loss: 0.2481 - accuracy: 0.9088 - val_loss: 0.1294 - val_accuracy: 0.9425\n",
            "Epoch 12/20\n",
            "29/29 [==============================] - 326s 11s/step - loss: 0.2692 - accuracy: 0.9043 - val_loss: 0.1116 - val_accuracy: 0.9690\n",
            "Epoch 13/20\n",
            "29/29 [==============================] - 330s 11s/step - loss: 0.2265 - accuracy: 0.9210 - val_loss: 0.1008 - val_accuracy: 0.9646\n",
            "Epoch 14/20\n",
            "29/29 [==============================] - 324s 11s/step - loss: 0.2621 - accuracy: 0.9032 - val_loss: 0.1410 - val_accuracy: 0.9292\n",
            "Epoch 15/20\n",
            "29/29 [==============================] - 346s 12s/step - loss: 0.2469 - accuracy: 0.9099 - val_loss: 0.1109 - val_accuracy: 0.9602\n",
            "Epoch 16/20\n",
            "29/29 [==============================] - 327s 11s/step - loss: 0.2028 - accuracy: 0.9288 - val_loss: 0.1030 - val_accuracy: 0.9690\n",
            "Epoch 17/20\n",
            "29/29 [==============================] - 331s 11s/step - loss: 0.2393 - accuracy: 0.9032 - val_loss: 0.1090 - val_accuracy: 0.9779\n",
            "Epoch 18/20\n",
            "29/29 [==============================] - 326s 11s/step - loss: 0.2335 - accuracy: 0.9155 - val_loss: 0.0887 - val_accuracy: 0.9690\n",
            "Epoch 19/20\n",
            "29/29 [==============================] - 326s 11s/step - loss: 0.2102 - accuracy: 0.9210 - val_loss: 0.0796 - val_accuracy: 0.9779\n",
            "Epoch 20/20\n",
            "29/29 [==============================] - 345s 12s/step - loss: 0.1933 - accuracy: 0.9310 - val_loss: 0.0974 - val_accuracy: 0.9558\n"
          ]
        }
      ]
    },
    {
      "cell_type": "markdown",
      "source": [
        "**accuracy**"
      ],
      "metadata": {
        "id": "UNLyI3d87tO_"
      }
    },
    {
      "cell_type": "code",
      "source": [
        "# Evaluate the model\n",
        "loss, accuracy = model.evaluate(test_generator)\n",
        "print(f'Test accuracy: {accuracy * 100:.2f}%')"
      ],
      "metadata": {
        "colab": {
          "base_uri": "https://localhost:8080/"
        },
        "id": "hQHLxpjDwbUv",
        "outputId": "c8892359-db44-4afd-e616-c15d18c69553"
      },
      "execution_count": null,
      "outputs": [
        {
          "output_type": "stream",
          "name": "stdout",
          "text": [
            "8/8 [==============================] - 78s 10s/step - loss: 0.0974 - accuracy: 0.9558\n",
            "Test accuracy: 95.58%\n"
          ]
        }
      ]
    },
    {
      "cell_type": "code",
      "source": [
        "# Plot training & validation accuracy values\n",
        "plt.figure(figsize=(12, 4))\n",
        "plt.subplot(1, 2, 1)\n",
        "plt.plot(history.history['accuracy'])\n",
        "plt.plot(history.history['val_accuracy'])\n",
        "plt.title('Model accuracy')\n",
        "plt.xlabel('Epoch')\n",
        "plt.ylabel('Accuracy')\n",
        "plt.legend(['Train', 'Test'], loc='upper left')\n",
        "\n",
        "# Plot training & validation loss values\n",
        "plt.subplot(1, 2, 2)\n",
        "plt.plot(history.history['loss'])\n",
        "plt.plot(history.history['val_loss'])\n",
        "plt.title('Model loss')\n",
        "plt.xlabel('Epoch')\n",
        "plt.ylabel('Loss')\n",
        "plt.legend(['Train', 'Test'], loc='upper left')\n",
        "\n",
        "plt.tight_layout()\n",
        "plt.show()"
      ],
      "metadata": {
        "colab": {
          "base_uri": "https://localhost:8080/",
          "height": 407
        },
        "id": "mhDJ1vRtxk7m",
        "outputId": "cb8db870-2c8f-46ad-a99b-1dd5ff7f7d59"
      },
      "execution_count": null,
      "outputs": [
        {
          "output_type": "display_data",
          "data": {
            "text/plain": [
              "<Figure size 1200x400 with 2 Axes>"
            ],
            "image/png": "[encoded data removed]"
          },
          "metadata": {}
        }
      ]
    },
    {
      "cell_type": "markdown",
      "source": [
        "Very good results, 95% accuracy without overfitting,\n",
        "\n",
        "meaning adding Transfer Learning helped"
      ],
      "metadata": {
        "id": "VMjO_-9w73ES"
      }
    }
  ]
}