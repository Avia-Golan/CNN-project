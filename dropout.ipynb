{
  "nbformat": 4,
  "nbformat_minor": 0,
  "metadata": {
    "colab": {
      "provenance": []
    },
    "kernelspec": {
      "name": "python3",
      "display_name": "Python 3"
    },
    "language_info": {
      "name": "python"
    }
  },
  "cells": [
    {
      "cell_type": "markdown",
      "source": [
        "#CNN\n",
        "\n",
        "**Using Dropout on the network**"
      ],
      "metadata": {
        "id": "gOaDOsdv3jAj"
      }
    },
    {
      "cell_type": "code",
      "source": [
        "!pip install tensorflow"
      ],
      "metadata": {
        "colab": {
          "base_uri": "https://localhost:8080/"
        },
        "collapsed": true,
        "id": "c5PhmjvSwv8D",
        "outputId": "945fdae8-f78f-464a-cd59-1b88734411cc"
      },
      "execution_count": null,
      "outputs": [
        {
          "output_type": "stream",
          "name": "stdout",
          "text": [
            "Requirement already satisfied: tensorflow in /usr/local/lib/python3.10/dist-packages (2.15.0)\n",
            "Requirement already satisfied: absl-py>=1.0.0 in /usr/local/lib/python3.10/dist-packages (from tensorflow) (1.4.0)\n",
            "Requirement already satisfied: astunparse>=1.6.0 in /usr/local/lib/python3.10/dist-packages (from tensorflow) (1.6.3)\n",
            "Requirement already satisfied: flatbuffers>=23.5.26 in /usr/local/lib/python3.10/dist-packages (from tensorflow) (24.3.25)\n",
            "Requirement already satisfied: gast!=0.5.0,!=0.5.1,!=0.5.2,>=0.2.1 in /usr/local/lib/python3.10/dist-packages (from tensorflow) (0.6.0)\n",
            "Requirement already satisfied: google-pasta>=0.1.1 in /usr/local/lib/python3.10/dist-packages (from tensorflow) (0.2.0)\n",
            "Requirement already satisfied: h5py>=2.9.0 in /usr/local/lib/python3.10/dist-packages (from tensorflow) (3.9.0)\n",
            "Requirement already satisfied: libclang>=13.0.0 in /usr/local/lib/python3.10/dist-packages (from tensorflow) (18.1.1)\n",
            "Requirement already satisfied: ml-dtypes~=0.2.0 in /usr/local/lib/python3.10/dist-packages (from tensorflow) (0.2.0)\n",
            "Requirement already satisfied: numpy<2.0.0,>=1.23.5 in /usr/local/lib/python3.10/dist-packages (from tensorflow) (1.25.2)\n",
            "Requirement already satisfied: opt-einsum>=2.3.2 in /usr/local/lib/python3.10/dist-packages (from tensorflow) (3.3.0)\n",
            "Requirement already satisfied: packaging in /usr/local/lib/python3.10/dist-packages (from tensorflow) (24.1)\n",
            "Requirement already satisfied: protobuf!=4.21.0,!=4.21.1,!=4.21.2,!=4.21.3,!=4.21.4,!=4.21.5,<5.0.0dev,>=3.20.3 in /usr/local/lib/python3.10/dist-packages (from tensorflow) (3.20.3)\n",
            "Requirement already satisfied: setuptools in /usr/local/lib/python3.10/dist-packages (from tensorflow) (67.7.2)\n",
            "Requirement already satisfied: six>=1.12.0 in /usr/local/lib/python3.10/dist-packages (from tensorflow) (1.16.0)\n",
            "Requirement already satisfied: termcolor>=1.1.0 in /usr/local/lib/python3.10/dist-packages (from tensorflow) (2.4.0)\n",
            "Requirement already satisfied: typing-extensions>=3.6.6 in /usr/local/lib/python3.10/dist-packages (from tensorflow) (4.12.2)\n",
            "Requirement already satisfied: wrapt<1.15,>=1.11.0 in /usr/local/lib/python3.10/dist-packages (from tensorflow) (1.14.1)\n",
            "Requirement already satisfied: tensorflow-io-gcs-filesystem>=0.23.1 in /usr/local/lib/python3.10/dist-packages (from tensorflow) (0.37.1)\n",
            "Requirement already satisfied: grpcio<2.0,>=1.24.3 in /usr/local/lib/python3.10/dist-packages (from tensorflow) (1.64.1)\n",
            "Requirement already satisfied: tensorboard<2.16,>=2.15 in /usr/local/lib/python3.10/dist-packages (from tensorflow) (2.15.2)\n",
            "Requirement already satisfied: tensorflow-estimator<2.16,>=2.15.0 in /usr/local/lib/python3.10/dist-packages (from tensorflow) (2.15.0)\n",
            "Requirement already satisfied: keras<2.16,>=2.15.0 in /usr/local/lib/python3.10/dist-packages (from tensorflow) (2.15.0)\n",
            "Requirement already satisfied: wheel<1.0,>=0.23.0 in /usr/local/lib/python3.10/dist-packages (from astunparse>=1.6.0->tensorflow) (0.43.0)\n",
            "Requirement already satisfied: google-auth<3,>=1.6.3 in /usr/local/lib/python3.10/dist-packages (from tensorboard<2.16,>=2.15->tensorflow) (2.27.0)\n",
            "Requirement already satisfied: google-auth-oauthlib<2,>=0.5 in /usr/local/lib/python3.10/dist-packages (from tensorboard<2.16,>=2.15->tensorflow) (1.2.1)\n",
            "Requirement already satisfied: markdown>=2.6.8 in /usr/local/lib/python3.10/dist-packages (from tensorboard<2.16,>=2.15->tensorflow) (3.6)\n",
            "Requirement already satisfied: requests<3,>=2.21.0 in /usr/local/lib/python3.10/dist-packages (from tensorboard<2.16,>=2.15->tensorflow) (2.31.0)\n",
            "Requirement already satisfied: tensorboard-data-server<0.8.0,>=0.7.0 in /usr/local/lib/python3.10/dist-packages (from tensorboard<2.16,>=2.15->tensorflow) (0.7.2)\n",
            "Requirement already satisfied: werkzeug>=1.0.1 in /usr/local/lib/python3.10/dist-packages (from tensorboard<2.16,>=2.15->tensorflow) (3.0.3)\n",
            "Requirement already satisfied: cachetools<6.0,>=2.0.0 in /usr/local/lib/python3.10/dist-packages (from google-auth<3,>=1.6.3->tensorboard<2.16,>=2.15->tensorflow) (5.4.0)\n",
            "Requirement already satisfied: pyasn1-modules>=0.2.1 in /usr/local/lib/python3.10/dist-packages (from google-auth<3,>=1.6.3->tensorboard<2.16,>=2.15->tensorflow) (0.4.0)\n",
            "Requirement already satisfied: rsa<5,>=3.1.4 in /usr/local/lib/python3.10/dist-packages (from google-auth<3,>=1.6.3->tensorboard<2.16,>=2.15->tensorflow) (4.9)\n",
            "Requirement already satisfied: requests-oauthlib>=0.7.0 in /usr/local/lib/python3.10/dist-packages (from google-auth-oauthlib<2,>=0.5->tensorboard<2.16,>=2.15->tensorflow) (1.3.1)\n",
            "Requirement already satisfied: charset-normalizer<4,>=2 in /usr/local/lib/python3.10/dist-packages (from requests<3,>=2.21.0->tensorboard<2.16,>=2.15->tensorflow) (3.3.2)\n",
            "Requirement already satisfied: idna<4,>=2.5 in /usr/local/lib/python3.10/dist-packages (from requests<3,>=2.21.0->tensorboard<2.16,>=2.15->tensorflow) (3.7)\n",
            "Requirement already satisfied: urllib3<3,>=1.21.1 in /usr/local/lib/python3.10/dist-packages (from requests<3,>=2.21.0->tensorboard<2.16,>=2.15->tensorflow) (2.0.7)\n",
            "Requirement already satisfied: certifi>=2017.4.17 in /usr/local/lib/python3.10/dist-packages (from requests<3,>=2.21.0->tensorboard<2.16,>=2.15->tensorflow) (2024.7.4)\n",
            "Requirement already satisfied: MarkupSafe>=2.1.1 in /usr/local/lib/python3.10/dist-packages (from werkzeug>=1.0.1->tensorboard<2.16,>=2.15->tensorflow) (2.1.5)\n",
            "Requirement already satisfied: pyasn1<0.7.0,>=0.4.6 in /usr/local/lib/python3.10/dist-packages (from pyasn1-modules>=0.2.1->google-auth<3,>=1.6.3->tensorboard<2.16,>=2.15->tensorflow) (0.6.0)\n",
            "Requirement already satisfied: oauthlib>=3.0.0 in /usr/local/lib/python3.10/dist-packages (from requests-oauthlib>=0.7.0->google-auth-oauthlib<2,>=0.5->tensorboard<2.16,>=2.15->tensorflow) (3.2.2)\n"
          ]
        }
      ]
    },
    {
      "cell_type": "markdown",
      "source": [
        "Libraries I used"
      ],
      "metadata": {
        "id": "Lal4rtYs4H7P"
      }
    },
    {
      "cell_type": "code",
      "source": [
        "import os\n",
        "import tensorflow as tf\n",
        "from tensorflow.keras.preprocessing.image import ImageDataGenerator\n",
        "from tensorflow.keras.models import Sequential\n",
        "from tensorflow.keras.layers import Conv2D, MaxPooling2D, Flatten, Dense, Dropout\n",
        "import matplotlib.pyplot as plt\n"
      ],
      "metadata": {
        "id": "WkdC_VHuv9uj"
      },
      "execution_count": null,
      "outputs": []
    },
    {
      "cell_type": "markdown",
      "source": [
        "I took the images file and divided it into train and test and within each folder I divided it into our four categories\n",
        "\n",
        "I made a division of 80,20% for images for train and test files because this is a fair division for a small amount of data"
      ],
      "metadata": {
        "id": "GXLaDfz74OYz"
      }
    },
    {
      "cell_type": "code",
      "source": [
        "import os\n",
        "import shutil\n",
        "from sklearn.model_selection import train_test_split\n",
        "\n",
        "# Paths\n",
        "original_directory = '/content/drive/MyDrive/רשתות ניורונים/Ex6/Photos1'  # Directory containing the original images\n",
        "new_directory = '/content/drive/MyDrive/רשתות ניורונים/Ex6/New_Photos1'  # Directory to contain the new structure\n",
        "\n",
        "# Categories\n",
        "categories = ['cloudy', 'rain', 'shine', 'sunrise']\n",
        "\n",
        "# Create train and test directories\n",
        "train_directory = os.path.join(new_directory, 'train')\n",
        "test_directory = os.path.join(new_directory, 'test')\n",
        "\n",
        "os.makedirs(train_directory, exist_ok=True)\n",
        "os.makedirs(test_directory, exist_ok=True)\n",
        "\n",
        "for category in categories:\n",
        "    os.makedirs(os.path.join(train_directory, category), exist_ok=True)\n",
        "    os.makedirs(os.path.join(test_directory, category), exist_ok=True)\n",
        "\n",
        "# Collect images\n",
        "images = {category: [] for category in categories}\n",
        "for category in categories:\n",
        "    for filename in os.listdir(original_directory):\n",
        "        if filename.startswith(category):\n",
        "            images[category].append(filename)\n",
        "\n",
        "# Split images into train and test sets\n",
        "train_images = {}\n",
        "test_images = {}\n",
        "for category in categories:\n",
        "    train_images[category], test_images[category] = train_test_split(images[category], test_size=0.2, random_state=42)\n",
        "\n",
        "# Copy images to the new directory structure\n",
        "for category in categories:\n",
        "    for image in train_images[category]:\n",
        "        src_path = os.path.join(original_directory, image)\n",
        "        dst_path = os.path.join(train_directory, category, image)\n",
        "        shutil.copyfile(src_path, dst_path)\n",
        "\n",
        "    for image in test_images[category]:\n",
        "        src_path = os.path.join(original_directory, image)\n",
        "        dst_path = os.path.join(test_directory, category, image)\n",
        "        shutil.copyfile(src_path, dst_path)\n",
        "\n",
        "print(\"Images have been organized into train and test sets.\")"
      ],
      "metadata": {
        "colab": {
          "base_uri": "https://localhost:8080/"
        },
        "id": "TY3Dl49luXzZ",
        "outputId": "d15275fa-75e7-4b96-8671-3abf565b4d30"
      },
      "execution_count": null,
      "outputs": [
        {
          "output_type": "stream",
          "name": "stdout",
          "text": [
            "Images have been organized into train and test sets.\n"
          ]
        }
      ]
    },
    {
      "cell_type": "markdown",
      "source": [
        "Preparing the images so that I can run the CNN model on them"
      ],
      "metadata": {
        "id": "UdiQ6RJ-60Fs"
      }
    },
    {
      "cell_type": "code",
      "source": [
        "# Paths to the data\n",
        "train_directory = '/content/drive/MyDrive/רשתות ניורונים/Ex6/New_Photos1/train'\n",
        "test_directory = '/content/drive/MyDrive/רשתות ניורונים/Ex6/New_Photos1/test'\n",
        "\n",
        "# Parameters\n",
        "img_height, img_width = 150, 150\n",
        "batch_size = 32\n",
        "epochs = 20\n",
        "\n",
        "# Data generators\n",
        "train_datagen = ImageDataGenerator(rescale=1./255)\n",
        "test_datagen = ImageDataGenerator(rescale=1./255)\n",
        "\n",
        "train_generator = train_datagen.flow_from_directory(\n",
        "    train_directory,\n",
        "    target_size=(img_height, img_width),\n",
        "    batch_size=batch_size,\n",
        "    class_mode='categorical'\n",
        ")\n",
        "\n",
        "test_generator = test_datagen.flow_from_directory(\n",
        "    test_directory,\n",
        "    target_size=(img_height, img_width),\n",
        "    batch_size=batch_size,\n",
        "    class_mode='categorical'\n",
        ")\n"
      ],
      "metadata": {
        "colab": {
          "base_uri": "https://localhost:8080/"
        },
        "id": "Q618hFgHvdGX",
        "outputId": "182992d2-f84d-4b50-ed70-8473275f7e4f"
      },
      "execution_count": null,
      "outputs": [
        {
          "output_type": "stream",
          "name": "stdout",
          "text": [
            "Found 899 images belonging to 4 classes.\n",
            "Found 226 images belonging to 4 classes.\n"
          ]
        }
      ]
    },
    {
      "cell_type": "markdown",
      "source": [
        "The cnn model that worked best for me - with 3 layers and dropout = 0.5"
      ],
      "metadata": {
        "id": "2UdzQ38-7OhC"
      }
    },
    {
      "cell_type": "code",
      "source": [
        "# Build the model\n",
        "model = Sequential([\n",
        "    Conv2D(32, (3, 3), activation='relu', input_shape=(img_height, img_width, 3)),\n",
        "    MaxPooling2D((2, 2)),\n",
        "    Conv2D(64, (3, 3), activation='relu'),\n",
        "    MaxPooling2D((2, 2)),\n",
        "    Conv2D(128, (3, 3), activation='relu'),\n",
        "    MaxPooling2D((2, 2)),\n",
        "    Flatten(),\n",
        "    Dense(512, activation='relu'),\n",
        "    Dropout(0.5),\n",
        "    Dense(4, activation='softmax')  # 4 categories\n",
        "])"
      ],
      "metadata": {
        "id": "S1r1UsezwPvp"
      },
      "execution_count": null,
      "outputs": []
    },
    {
      "cell_type": "code",
      "source": [
        "model.compile(optimizer='adam', loss='categorical_crossentropy', metrics=['accuracy'])\n"
      ],
      "metadata": {
        "id": "tB-nwpIXwUG3"
      },
      "execution_count": null,
      "outputs": []
    },
    {
      "cell_type": "markdown",
      "source": [
        "Running the model on the training group"
      ],
      "metadata": {
        "id": "p3pSjas_7jJU"
      }
    },
    {
      "cell_type": "code",
      "source": [
        "# Train the model\n",
        "history = model.fit(\n",
        "    train_generator,\n",
        "    epochs=epochs,\n",
        "    validation_data=test_generator\n",
        ")"
      ],
      "metadata": {
        "colab": {
          "base_uri": "https://localhost:8080/"
        },
        "id": "yyRv4nddwXOu",
        "outputId": "705277f7-cddf-4b84-9a04-5c6a6a376e1e"
      },
      "execution_count": null,
      "outputs": [
        {
          "output_type": "stream",
          "name": "stdout",
          "text": [
            "Epoch 1/20\n",
            "29/29 [==============================] - 61s 2s/step - loss: 1.0974 - accuracy: 0.5273 - val_loss: 0.5695 - val_accuracy: 0.7743\n",
            "Epoch 2/20\n",
            "29/29 [==============================] - 57s 2s/step - loss: 0.6219 - accuracy: 0.7853 - val_loss: 0.3056 - val_accuracy: 0.8894\n",
            "Epoch 3/20\n",
            "29/29 [==============================] - 61s 2s/step - loss: 0.3571 - accuracy: 0.8821 - val_loss: 0.3594 - val_accuracy: 0.8584\n",
            "Epoch 4/20\n",
            "29/29 [==============================] - 61s 2s/step - loss: 0.3507 - accuracy: 0.8821 - val_loss: 0.2063 - val_accuracy: 0.9336\n",
            "Epoch 5/20\n",
            "29/29 [==============================] - 63s 2s/step - loss: 0.3140 - accuracy: 0.8877 - val_loss: 0.2597 - val_accuracy: 0.9159\n",
            "Epoch 6/20\n",
            "29/29 [==============================] - 56s 2s/step - loss: 0.2687 - accuracy: 0.9055 - val_loss: 0.2021 - val_accuracy: 0.9292\n",
            "Epoch 7/20\n",
            "29/29 [==============================] - 56s 2s/step - loss: 0.2102 - accuracy: 0.9188 - val_loss: 0.2499 - val_accuracy: 0.9071\n",
            "Epoch 8/20\n",
            "29/29 [==============================] - 57s 2s/step - loss: 0.2251 - accuracy: 0.9166 - val_loss: 0.2129 - val_accuracy: 0.9204\n",
            "Epoch 9/20\n",
            "29/29 [==============================] - 61s 2s/step - loss: 0.2278 - accuracy: 0.9188 - val_loss: 0.2125 - val_accuracy: 0.9248\n",
            "Epoch 10/20\n",
            "29/29 [==============================] - 62s 2s/step - loss: 0.1824 - accuracy: 0.9433 - val_loss: 0.2277 - val_accuracy: 0.9336\n",
            "Epoch 11/20\n",
            "29/29 [==============================] - 58s 2s/step - loss: 0.1453 - accuracy: 0.9466 - val_loss: 0.1791 - val_accuracy: 0.9336\n",
            "Epoch 12/20\n",
            "29/29 [==============================] - 57s 2s/step - loss: 0.1265 - accuracy: 0.9600 - val_loss: 0.2004 - val_accuracy: 0.9425\n",
            "Epoch 13/20\n",
            "29/29 [==============================] - 57s 2s/step - loss: 0.1429 - accuracy: 0.9488 - val_loss: 0.2451 - val_accuracy: 0.9115\n",
            "Epoch 14/20\n",
            "29/29 [==============================] - 58s 2s/step - loss: 0.1068 - accuracy: 0.9600 - val_loss: 0.1768 - val_accuracy: 0.9469\n",
            "Epoch 15/20\n",
            "29/29 [==============================] - 65s 2s/step - loss: 0.0710 - accuracy: 0.9778 - val_loss: 0.1812 - val_accuracy: 0.9425\n",
            "Epoch 16/20\n",
            "29/29 [==============================] - 57s 2s/step - loss: 0.0557 - accuracy: 0.9811 - val_loss: 0.2743 - val_accuracy: 0.9248\n",
            "Epoch 17/20\n",
            "29/29 [==============================] - 58s 2s/step - loss: 0.0758 - accuracy: 0.9689 - val_loss: 0.2840 - val_accuracy: 0.8761\n",
            "Epoch 18/20\n",
            "29/29 [==============================] - 58s 2s/step - loss: 0.0653 - accuracy: 0.9766 - val_loss: 0.1569 - val_accuracy: 0.9425\n",
            "Epoch 19/20\n",
            "29/29 [==============================] - 58s 2s/step - loss: 0.0511 - accuracy: 0.9833 - val_loss: 0.1651 - val_accuracy: 0.9558\n",
            "Epoch 20/20\n",
            "29/29 [==============================] - 58s 2s/step - loss: 0.0301 - accuracy: 0.9889 - val_loss: 0.2092 - val_accuracy: 0.9513\n"
          ]
        }
      ]
    },
    {
      "cell_type": "markdown",
      "source": [
        "**accuracy**"
      ],
      "metadata": {
        "id": "UNLyI3d87tO_"
      }
    },
    {
      "cell_type": "code",
      "source": [
        "# Evaluate the model\n",
        "loss, accuracy = model.evaluate(test_generator)\n",
        "print(f'Test accuracy: {accuracy * 100:.2f}%')"
      ],
      "metadata": {
        "colab": {
          "base_uri": "https://localhost:8080/"
        },
        "id": "hQHLxpjDwbUv",
        "outputId": "b38d8fb4-7719-4006-92c9-8051f33a7d5f"
      },
      "execution_count": null,
      "outputs": [
        {
          "output_type": "stream",
          "name": "stdout",
          "text": [
            "8/8 [==============================] - 4s 434ms/step - loss: 0.2092 - accuracy: 0.9513\n",
            "Test accuracy: 95.13%\n"
          ]
        }
      ]
    },
    {
      "cell_type": "code",
      "source": [
        "# Plot training & validation accuracy values\n",
        "plt.figure(figsize=(12, 4))\n",
        "plt.subplot(1, 2, 1)\n",
        "plt.plot(history.history['accuracy'])\n",
        "plt.plot(history.history['val_accuracy'])\n",
        "plt.title('Model accuracy')\n",
        "plt.xlabel('Epoch')\n",
        "plt.ylabel('Accuracy')\n",
        "plt.legend(['Train', 'Test'], loc='upper left')\n",
        "\n",
        "# Plot training & validation loss values\n",
        "plt.subplot(1, 2, 2)\n",
        "plt.plot(history.history['loss'])\n",
        "plt.plot(history.history['val_loss'])\n",
        "plt.title('Model loss')\n",
        "plt.xlabel('Epoch')\n",
        "plt.ylabel('Loss')\n",
        "plt.legend(['Train', 'Test'], loc='upper left')\n",
        "\n",
        "plt.tight_layout()\n",
        "plt.show()"
      ],
      "metadata": {
        "colab": {
          "base_uri": "https://localhost:8080/",
          "height": 407
        },
        "id": "mhDJ1vRtxk7m",
        "outputId": "5e612fd3-5004-474c-dcef-34670ed6693a"
      },
      "execution_count": null,
      "outputs": [
        {
          "output_type": "display_data",
          "data": {
            "text/plain": [
              "<Figure size 1200x400 with 2 Axes>"
            ],
            "image/png": "[encoded data removed]"
          },
          "metadata": {}
        }
      ]
    },
    {
      "cell_type": "markdown",
      "source": [
        "Overall I was able to get really good results over 95% match which is great, Although overfitting turned out to be less good."
      ],
      "metadata": {
        "id": "VMjO_-9w73ES"
      }
    }
  ]
}